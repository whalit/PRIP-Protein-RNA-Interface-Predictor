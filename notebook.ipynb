{
 "cells": [
  {
   "cell_type": "markdown",
   "metadata": {},
   "source": [
    "# Imports"
   ]
  },
  {
   "cell_type": "code",
   "execution_count": 14,
   "metadata": {},
   "outputs": [],
   "source": [
    "import csv\n",
    "from  utils import read_txt_file, write_csv_file\n",
    "import pandas as pd"
   ]
  },
  {
   "cell_type": "markdown",
   "metadata": {},
   "source": [
    "# Materials and Methods"
   ]
  },
  {
   "cell_type": "markdown",
   "metadata": {},
   "source": [
    "## Datasets"
   ]
  },
  {
   "cell_type": "markdown",
   "metadata": {},
   "source": [
    "The dataset **RB198** was employed as the training set, while **RB111** served as the independent set in this implementation.\n",
    "\n",
    " Both datasets were acquired from the following source: http://ailab-projects2.ist.psu.edu/RNABindRPlus/data.html"
   ]
  },
  {
   "cell_type": "markdown",
   "metadata": {},
   "source": [
    "Originally, the data was structured as a text file in the following format:\n",
    "\n",
    "```\n",
    "#First line: PDBID and Chain ID\n",
    "#Second line: Sequence\n",
    "#Third line: Interface residues defined using a 5.0 angstrom distance cut-off\n",
    "2XFZ_Y\n",
    "KGFKDYGHDYHPAPKTENIKGLGDLKPGIPKTPKQNGGGKRKRWTGDKGRKIYEWDSQAGELEGYRASDGQHLGSFDPKTGNQLKGPDPKRNIKKYL\n",
    "0000000011100000000000000000111011111111110000010110000111100000010110000000000000000000111101111\n",
    "```\n",
    "\n",
    "We needed to convert this data into a CSV file with the following features:\n",
    "\n",
    "**PDBID**, **ChainID**, **Sequence**, **Interface**\n",
    "\n",
    "The script processed this transformation."
   ]
  },
  {
   "cell_type": "code",
   "execution_count": 13,
   "metadata": {},
   "outputs": [],
   "source": [
    "rb198txt = 'Datasets/RB198.txt'\n",
    "rb198 = 'Datasets/RB198.csv'\n",
    "\n",
    "data = read_txt_file(rb198txt)\n",
    "write_csv_file(data, rb198)\n",
    "\n",
    "rb111txt = 'Datasets/RB111.txt'\n",
    "rb111 = 'Datasets/RB111.csv'\n",
    "data = read_txt_file(rb111txt)\n",
    "write_csv_file(data, rb111)"
   ]
  },
  {
   "cell_type": "markdown",
   "metadata": {},
   "source": [
    "The structure of the dataframe resembles:"
   ]
  },
  {
   "cell_type": "code",
   "execution_count": 15,
   "metadata": {},
   "outputs": [
    {
     "data": {
      "text/html": [
       "<div>\n",
       "<style scoped>\n",
       "    .dataframe tbody tr th:only-of-type {\n",
       "        vertical-align: middle;\n",
       "    }\n",
       "\n",
       "    .dataframe tbody tr th {\n",
       "        vertical-align: top;\n",
       "    }\n",
       "\n",
       "    .dataframe thead th {\n",
       "        text-align: right;\n",
       "    }\n",
       "</style>\n",
       "<table border=\"1\" class=\"dataframe\">\n",
       "  <thead>\n",
       "    <tr style=\"text-align: right;\">\n",
       "      <th></th>\n",
       "      <th>PDBID</th>\n",
       "      <th>ChainID</th>\n",
       "      <th>Sequence</th>\n",
       "      <th>Interface</th>\n",
       "    </tr>\n",
       "  </thead>\n",
       "  <tbody>\n",
       "    <tr>\n",
       "      <th>0</th>\n",
       "      <td>2AZ0</td>\n",
       "      <td>A</td>\n",
       "      <td>MPSKLALIQELPDRIQTAVEAAMGMSYQDAPNNVRRDLDNLHACLN...</td>\n",
       "      <td>0000000000000000000000000000000010011001001100...</td>\n",
       "    </tr>\n",
       "    <tr>\n",
       "      <th>1</th>\n",
       "      <td>1M8V</td>\n",
       "      <td>A</td>\n",
       "      <td>GAMAERPLDVIHRSLDKDVLVILKKGFEFRGRLIGYDIHLNVVLAD...</td>\n",
       "      <td>0001110110010010000000000000000001111110000000...</td>\n",
       "    </tr>\n",
       "    <tr>\n",
       "      <th>2</th>\n",
       "      <td>2PJP</td>\n",
       "      <td>A</td>\n",
       "      <td>FSEEQQAIWQKAEPLFGDEPWWVRDLAKETGTDEQAMRLTLRQAAQ...</td>\n",
       "      <td>0000000000000000000001110000000001000100000000...</td>\n",
       "    </tr>\n",
       "  </tbody>\n",
       "</table>\n",
       "</div>"
      ],
      "text/plain": [
       "  PDBID ChainID                                           Sequence  \\\n",
       "0  2AZ0       A  MPSKLALIQELPDRIQTAVEAAMGMSYQDAPNNVRRDLDNLHACLN...   \n",
       "1  1M8V       A  GAMAERPLDVIHRSLDKDVLVILKKGFEFRGRLIGYDIHLNVVLAD...   \n",
       "2  2PJP       A  FSEEQQAIWQKAEPLFGDEPWWVRDLAKETGTDEQAMRLTLRQAAQ...   \n",
       "\n",
       "                                           Interface  \n",
       "0  0000000000000000000000000000000010011001001100...  \n",
       "1  0001110110010010000000000000000001111110000000...  \n",
       "2  0000000000000000000001110000000001000100000000...  "
      ]
     },
     "execution_count": 15,
     "metadata": {},
     "output_type": "execute_result"
    }
   ],
   "source": [
    "train_data = pd.read_csv('Datasets/RB198.csv')\n",
    "train_data.head(3)"
   ]
  },
  {
   "cell_type": "markdown",
   "metadata": {},
   "source": [
    "## Methodology"
   ]
  },
  {
   "cell_type": "markdown",
   "metadata": {},
   "source": [
    "In this implementation, the proposed PRIP method comprised five steps:\n",
    "\n",
    "1. Pre-training the Word2vec model.\n",
    "2. Dividing protein sequences.\n",
    "3. Extracting semantic features.\n",
    "4. Training the XGBoost classifier.\n",
    "5. Discerning between binding and non-binding sites.\n"
   ]
  },
  {
   "cell_type": "markdown",
   "metadata": {},
   "source": [
    "## Word2Vec"
   ]
  }
 ],
 "metadata": {
  "kernelspec": {
   "display_name": "Python 3",
   "language": "python",
   "name": "python3"
  },
  "language_info": {
   "codemirror_mode": {
    "name": "ipython",
    "version": 3
   },
   "file_extension": ".py",
   "mimetype": "text/x-python",
   "name": "python",
   "nbconvert_exporter": "python",
   "pygments_lexer": "ipython3",
   "version": "3.11.8"
  }
 },
 "nbformat": 4,
 "nbformat_minor": 2
}
